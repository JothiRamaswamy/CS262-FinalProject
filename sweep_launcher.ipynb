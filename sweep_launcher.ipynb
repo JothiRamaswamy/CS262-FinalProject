{
 "cells": [
  {
   "cell_type": "code",
   "execution_count": 31,
   "id": "f275efce-e560-46f3-b46e-4e84bd9c1d00",
   "metadata": {
    "tags": []
   },
   "outputs": [
    {
     "name": "stdout",
     "output_type": "stream",
     "text": [
      "8 1000000000.0\n",
      "Benchmarking a task from YAML spec: cpu_yamls/8cpus_1000000000steps.yaml\n",
      "I 04-29 23:54:51 benchmark_utils.py:112] \u001b[1mBenchmarking example on candidate resources (benchmark name: s8cpus1000000000steps):\u001b[0m\n",
      "I 04-29 23:54:51 benchmark_utils.py:160] -----------------------------------------------------------------------------------------------------------------------\n",
      "I 04-29 23:54:51 benchmark_utils.py:160]  CLUSTER                             CLOUD   # NODES   INSTANCE        vCPUs   Mem(GB)   ACCELERATORS   PRICE ($/hr)   \n",
      "I 04-29 23:54:51 benchmark_utils.py:160] -----------------------------------------------------------------------------------------------------------------------\n",
      "I 04-29 23:54:51 benchmark_utils.py:160]  sky-bench-s8cpus1000000000steps-0   AWS     1         m6i.2xlarge     8       32        -              0.38           \n",
      "I 04-29 23:54:51 benchmark_utils.py:160]  sky-bench-s8cpus1000000000steps-1   GCP     1         n2-standard-8   8       32        -              0.39           \n",
      "I 04-29 23:54:51 benchmark_utils.py:160] -----------------------------------------------------------------------------------------------------------------------\n",
      "I 04-29 23:54:51 benchmark_utils.py:160] \n",
      "I 04-29 23:54:52 benchmark_utils.py:515] \u001b[33mTo view stdout/stderr from individual cluster launches, check the logs in\u001b[0m \u001b[1m/Users/jchiu/sky_logs/sky-2023-04-29-23-54-52-493582/\u001b[0m\n",
      "\u001b[35m(sky-bench-s8cpus1000000000steps-1)\u001b[0m I 04-29 23:54:53 cloud_vm_ray_backend.py:3328] \u001b[36mCreating a new cluster: \"sky-bench-s8cpus1000000000steps-1\" [1x GCP(n2-standard-8)].\u001b[0m\n",
      "\u001b[35m(sky-bench-s8cpus1000000000steps-0)\u001b[0m I 04-29 23:54:53 cloud_vm_ray_backend.py:3328] \u001b[36mCreating a new cluster: \"sky-bench-s8cpus1000000000steps-0\" [1x AWS(m6i.2xlarge)].\u001b[0m\n",
      "\u001b[35m(sky-bench-s8cpus1000000000steps-0)\u001b[0m I 04-29 23:54:53 cloud_vm_ray_backend.py:1156] To view detailed progress: \u001b[1mtail -n100 -f /Users/jchiu/sky_logs/sky-2023-04-29-23-54-53-396372/provision.log\u001b[0m\n",
      "\u001b[35m(sky-bench-s8cpus1000000000steps-0)\u001b[0m I 04-29 23:54:54 cloud_vm_ray_backend.py:1480] \u001b[1mLaunching on AWS us-east-1\u001b[0m (us-east-1a,us-east-1b,us-east-1c,us-east-1d,us-east-1f)\n",
      "\u001b[35m(sky-bench-s8cpus1000000000steps-1)\u001b[0m I 04-29 23:54:54 cloud_vm_ray_backend.py:1156] To view detailed progress: \u001b[1mtail -n100 -f /Users/jchiu/sky_logs/sky-2023-04-29-23-54-53-396359/provision.log\u001b[0m\n",
      "\u001b[35m(sky-bench-s8cpus1000000000steps-1)\u001b[0m I 04-29 23:54:57 cloud_vm_ray_backend.py:1480] \u001b[1mLaunching on GCP us-central1\u001b[0m (us-central1-a)\n",
      "\u001b[35m(sky-bench-s8cpus1000000000steps-1)\u001b[0m I 04-29 23:55:56 log_utils.py:89] \u001b[32mHead node is up.\u001b[0m\n",
      "\u001b[35m(sky-bench-s8cpus1000000000steps-0)\u001b[0m I 04-29 23:56:15 log_utils.py:89] \u001b[32mHead node is up.\u001b[0m\n",
      "\u001b[35m(sky-bench-s8cpus1000000000steps-1)\u001b[0m I 04-29 23:56:58 cloud_vm_ray_backend.py:1293] \u001b[32mSuccessfully provisioned or found existing VM.\u001b[0m\n",
      "\u001b[35m(sky-bench-s8cpus1000000000steps-1)\u001b[0m I 04-29 23:57:05 cloud_vm_ray_backend.py:2430] \u001b[36mSyncing workdir (to 1 node): \u001b[1m./scripts\u001b[0m -> \u001b[1m~/sky_workdir\u001b[0m\n",
      "\u001b[35m(sky-bench-s8cpus1000000000steps-1)\u001b[0m I 04-29 23:57:05 cloud_vm_ray_backend.py:2435] To view detailed progress: \u001b[1mtail -n100 -f ~/sky_logs/sky-2023-04-29-23-54-53-396359/workdir_sync.log\u001b[0m\n",
      "\u001b[35m(sky-bench-s8cpus1000000000steps-1)\u001b[0m I 04-29 23:57:07 cloud_vm_ray_backend.py:3518] \u001b[36mProcessing 1 storage mount.\u001b[0m\n",
      "\u001b[35m(sky-bench-s8cpus1000000000steps-1)\u001b[0m I 04-29 23:57:07 backend_utils.py:1199] \u001b[36mMounting (to 1 node): \u001b[1msky-bench-c0e3-jchiu\u001b[0m -> \u001b[1m~/.sky/sky_benchmark_dir\u001b[0m\n",
      "\u001b[35m(sky-bench-s8cpus1000000000steps-1)\u001b[0m I 04-29 23:57:10 cloud_vm_ray_backend.py:2531] \u001b[36mRunning setup on 1 node.\u001b[0m\n"
     ]
    },
    {
     "name": "stderr",
     "output_type": "stream",
     "text": [
      "\u001b[35m(sky-bench-s8cpus1000000000steps-1)\u001b[0m Warning: Permanently added '104.198.49.178' (ED25519) to the list of known hosts.\n"
     ]
    },
    {
     "name": "stdout",
     "output_type": "stream",
     "text": [
      "\u001b[35m(sky-bench-s8cpus1000000000steps-1)\u001b[0m I 04-29 23:57:15 cloud_vm_ray_backend.py:2540] \u001b[32mSetup completed.\u001b[0m\n",
      "\u001b[35m(sky-bench-s8cpus1000000000steps-0)\u001b[0m I 04-29 23:57:52 cloud_vm_ray_backend.py:1293] \u001b[32mSuccessfully provisioned or found existing VM.\u001b[0m\n"
     ]
    },
    {
     "name": "stderr",
     "output_type": "stream",
     "text": [
      "\u001b[35m(sky-bench-s8cpus1000000000steps-0)\u001b[0m Warning: Permanently added '52.0.97.92' (ED25519) to the list of known hosts.\n"
     ]
    },
    {
     "name": "stdout",
     "output_type": "stream",
     "text": [
      "\u001b[35m(sky-bench-s8cpus1000000000steps-0)\u001b[0m us-east-1a\n",
      "\u001b[35m(sky-bench-s8cpus1000000000steps-0)\u001b[0m I 04-29 23:57:57 cloud_vm_ray_backend.py:2430] \u001b[36mSyncing workdir (to 1 node): \u001b[1m./scripts\u001b[0m -> \u001b[1m~/sky_workdir\u001b[0m\n",
      "\u001b[35m(sky-bench-s8cpus1000000000steps-0)\u001b[0m I 04-29 23:57:57 cloud_vm_ray_backend.py:2435] To view detailed progress: \u001b[1mtail -n100 -f ~/sky_logs/sky-2023-04-29-23-54-53-396372/workdir_sync.log\u001b[0m\n",
      "\u001b[35m(sky-bench-s8cpus1000000000steps-0)\u001b[0m I 04-29 23:57:57 cloud_vm_ray_backend.py:3518] \u001b[36mProcessing 1 storage mount.\u001b[0m\n",
      "\u001b[35m(sky-bench-s8cpus1000000000steps-0)\u001b[0m I 04-29 23:57:57 backend_utils.py:1199] \u001b[36mMounting (to 1 node): \u001b[1msky-bench-c0e3-jchiu\u001b[0m -> \u001b[1m~/.sky/sky_benchmark_dir\u001b[0m\n",
      "\u001b[35m(sky-bench-s8cpus1000000000steps-0)\u001b[0m I 04-29 23:58:00 cloud_vm_ray_backend.py:2531] \u001b[36mRunning setup on 1 node.\u001b[0m\n"
     ]
    },
    {
     "name": "stderr",
     "output_type": "stream",
     "text": [
      "\u001b[35m(sky-bench-s8cpus1000000000steps-0)\u001b[0m Warning: Permanently added '52.0.97.92' (ED25519) to the list of known hosts.\n"
     ]
    },
    {
     "name": "stdout",
     "output_type": "stream",
     "text": [
      "\u001b[35m(sky-bench-s8cpus1000000000steps-0)\u001b[0m I 04-29 23:58:04 cloud_vm_ray_backend.py:2540] \u001b[32mSetup completed.\u001b[0m\n",
      "I 04-29 23:58:11 cli.py:3750] \n",
      "I 04-29 23:58:11 cli.py:3750] \u001b[36mBenchmark name: \u001b[1ms8cpus1000000000steps\u001b[0m\n",
      "I 04-29 23:58:11 cli.py:3750] To see the benchmark results: \u001b[1msky bench show s8cpus1000000000steps\u001b[0m\n",
      "I 04-29 23:58:11 cli.py:3750] To teardown the clusters: \u001b[1msky bench down s8cpus1000000000steps\u001b[0m\n",
      "BENCHMARK              TASK     LAUNCHED             CANDIDATE 1     CANDIDATE 2       \n",
      "s8cpus1000000000steps  example  2023-04-29 23:58:11  1x m6i.2xlarge  1x n2-standard-8  \n"
     ]
    }
   ],
   "source": [
    "from itertools import product\n",
    "import subprocess\n",
    "\n",
    "cpus = [8]\n",
    "steps = [1e9]\n",
    "pids = []\n",
    "\n",
    "i = 0\n",
    "for cpu in cpus:\n",
    "    for step in steps:\n",
    "        print(cpu, step)\n",
    "        name = f\"s{cpu}cpus{int(step)}steps\"\n",
    "        command = f\"sky bench launch cpu_yamls/{int(cpu)}cpus_{int(step)}steps.yaml --benchmark {name} -y\"\n",
    "        pid = subprocess.Popen(command, shell=True)\n",
    "        pids.append(pid)\n",
    "        i += 1\n",
    "        \n"
   ]
  },
  {
   "cell_type": "code",
   "execution_count": null,
   "id": "8a8e90de-f58d-4928-9498-ded6fee04f2a",
   "metadata": {},
   "outputs": [],
   "source": []
  }
 ],
 "metadata": {
  "kernelspec": {
   "display_name": "Python 3 (ipykernel)",
   "language": "python",
   "name": "python3"
  },
  "language_info": {
   "codemirror_mode": {
    "name": "ipython",
    "version": 3
   },
   "file_extension": ".py",
   "mimetype": "text/x-python",
   "name": "python",
   "nbconvert_exporter": "python",
   "pygments_lexer": "ipython3",
   "version": "3.7.16"
  }
 },
 "nbformat": 4,
 "nbformat_minor": 5
}
