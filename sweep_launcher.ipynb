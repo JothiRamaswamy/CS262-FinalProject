{
 "cells": [
  {
   "cell_type": "code",
   "execution_count": 31,
   "id": "f275efce-e560-46f3-b46e-4e84bd9c1d00",
   "metadata": {
    "tags": []
   },
   "outputs": [
    {
     "name": "stdout",
     "output_type": "stream",
     "text": [
      "8 1000000000.0\n",
      "Benchmarking a task from YAML spec: cpu_yamls/8cpus_1000000000steps.yaml\n",
      "I 04-29 23:54:51 benchmark_utils.py:112] \u001b[1mBenchmarking example on candidate resources (benchmark name: s8cpus1000000000steps):\u001b[0m\n",
      "I 04-29 23:54:51 benchmark_utils.py:160] -----------------------------------------------------------------------------------------------------------------------\n",
      "I 04-29 23:54:51 benchmark_utils.py:160]  CLUSTER                             CLOUD   # NODES   INSTANCE        vCPUs   Mem(GB)   ACCELERATORS   PRICE ($/hr)   \n",
      "I 04-29 23:54:51 benchmark_utils.py:160] -----------------------------------------------------------------------------------------------------------------------\n",
      "I 04-29 23:54:51 benchmark_utils.py:160]  sky-bench-s8cpus1000000000steps-0   AWS     1         m6i.2xlarge     8       32        -              0.38           \n",
      "I 04-29 23:54:51 benchmark_utils.py:160]  sky-bench-s8cpus1000000000steps-1   GCP     1         n2-standard-8   8       32        -              0.39           \n",
      "I 04-29 23:54:51 benchmark_utils.py:160] -----------------------------------------------------------------------------------------------------------------------\n",
      "I 04-29 23:54:51 benchmark_utils.py:160] \n",
      "I 04-29 23:54:52 benchmark_utils.py:515] \u001b[33mTo view stdout/stderr from individual cluster launches, check the logs in\u001b[0m \u001b[1m/Users/jchiu/sky_logs/sky-2023-04-29-23-54-52-493582/\u001b[0m\n",
      "\u001b[35m(sky-bench-s8cpus1000000000steps-1)\u001b[0m I 04-29 23:54:53 cloud_vm_ray_backend.py:3328] \u001b[36mCreating a new cluster: \"sky-bench-s8cpus1000000000steps-1\" [1x GCP(n2-standard-8)].\u001b[0m\n",
      "\u001b[35m(sky-bench-s8cpus1000000000steps-0)\u001b[0m I 04-29 23:54:53 cloud_vm_ray_backend.py:3328] \u001b[36mCreating a new cluster: \"sky-bench-s8cpus1000000000steps-0\" [1x AWS(m6i.2xlarge)].\u001b[0m\n",
      "\u001b[35m(sky-bench-s8cpus1000000000steps-0)\u001b[0m I 04-29 23:54:53 cloud_vm_ray_backend.py:1156] To view detailed progress: \u001b[1mtail -n100 -f /Users/jchiu/sky_logs/sky-2023-04-29-23-54-53-396372/provision.log\u001b[0m\n",
      "\u001b[35m(sky-bench-s8cpus1000000000steps-0)\u001b[0m I 04-29 23:54:54 cloud_vm_ray_backend.py:1480] \u001b[1mLaunching on AWS us-east-1\u001b[0m (us-east-1a,us-east-1b,us-east-1c,us-east-1d,us-east-1f)\n",
      "\u001b[35m(sky-bench-s8cpus1000000000steps-1)\u001b[0m I 04-29 23:54:54 cloud_vm_ray_backend.py:1156] To view detailed progress: \u001b[1mtail -n100 -f /Users/jchiu/sky_logs/sky-2023-04-29-23-54-53-396359/provision.log\u001b[0m\n",
      "\u001b[35m(sky-bench-s8cpus1000000000steps-1)\u001b[0m I 04-29 23:54:57 cloud_vm_ray_backend.py:1480] \u001b[1mLaunching on GCP us-central1\u001b[0m (us-central1-a)\n",
      "\u001b[35m(sky-bench-s8cpus1000000000steps-1)\u001b[0m I 04-29 23:55:56 log_utils.py:89] \u001b[32mHead node is up.\u001b[0m\n",
      "\u001b[35m(sky-bench-s8cpus1000000000steps-0)\u001b[0m I 04-29 23:56:15 log_utils.py:89] \u001b[32mHead node is up.\u001b[0m\n",
      "\u001b[35m(sky-bench-s8cpus1000000000steps-1)\u001b[0m I 04-29 23:56:58 cloud_vm_ray_backend.py:1293] \u001b[32mSuccessfully provisioned or found existing VM.\u001b[0m\n",
      "\u001b[35m(sky-bench-s8cpus1000000000steps-1)\u001b[0m I 04-29 23:57:05 cloud_vm_ray_backend.py:2430] \u001b[36mSyncing workdir (to 1 node): \u001b[1m./scripts\u001b[0m -> \u001b[1m~/sky_workdir\u001b[0m\n",
      "\u001b[35m(sky-bench-s8cpus1000000000steps-1)\u001b[0m I 04-29 23:57:05 cloud_vm_ray_backend.py:2435] To view detailed progress: \u001b[1mtail -n100 -f ~/sky_logs/sky-2023-04-29-23-54-53-396359/workdir_sync.log\u001b[0m\n",
      "\u001b[35m(sky-bench-s8cpus1000000000steps-1)\u001b[0m I 04-29 23:57:07 cloud_vm_ray_backend.py:3518] \u001b[36mProcessing 1 storage mount.\u001b[0m\n",
      "\u001b[35m(sky-bench-s8cpus1000000000steps-1)\u001b[0m I 04-29 23:57:07 backend_utils.py:1199] \u001b[36mMounting (to 1 node): \u001b[1msky-bench-c0e3-jchiu\u001b[0m -> \u001b[1m~/.sky/sky_benchmark_dir\u001b[0m\n",
      "\u001b[35m(sky-bench-s8cpus1000000000steps-1)\u001b[0m I 04-29 23:57:10 cloud_vm_ray_backend.py:2531] \u001b[36mRunning setup on 1 node.\u001b[0m\n"
     ]
    },
    {
     "name": "stderr",
     "output_type": "stream",
     "text": [
      "\u001b[35m(sky-bench-s8cpus1000000000steps-1)\u001b[0m Warning: Permanently added '104.198.49.178' (ED25519) to the list of known hosts.\n"
     ]
    },
    {
     "name": "stdout",
     "output_type": "stream",
     "text": [
      "\u001b[35m(sky-bench-s8cpus1000000000steps-1)\u001b[0m I 04-29 23:57:15 cloud_vm_ray_backend.py:2540] \u001b[32mSetup completed.\u001b[0m\n",
      "\u001b[35m(sky-bench-s8cpus1000000000steps-0)\u001b[0m I 04-29 23:57:52 cloud_vm_ray_backend.py:1293] \u001b[32mSuccessfully provisioned or found existing VM.\u001b[0m\n"
     ]
    },
    {
     "name": "stderr",
     "output_type": "stream",
     "text": [
      "\u001b[35m(sky-bench-s8cpus1000000000steps-0)\u001b[0m Warning: Permanently added '52.0.97.92' (ED25519) to the list of known hosts.\n"
     ]
    },
    {
     "name": "stdout",
     "output_type": "stream",
     "text": [
      "\u001b[35m(sky-bench-s8cpus1000000000steps-0)\u001b[0m us-east-1a\n",
      "\u001b[35m(sky-bench-s8cpus1000000000steps-0)\u001b[0m I 04-29 23:57:57 cloud_vm_ray_backend.py:2430] \u001b[36mSyncing workdir (to 1 node): \u001b[1m./scripts\u001b[0m -> \u001b[1m~/sky_workdir\u001b[0m\n",
      "\u001b[35m(sky-bench-s8cpus1000000000steps-0)\u001b[0m I 04-29 23:57:57 cloud_vm_ray_backend.py:2435] To view detailed progress: \u001b[1mtail -n100 -f ~/sky_logs/sky-2023-04-29-23-54-53-396372/workdir_sync.log\u001b[0m\n",
      "\u001b[35m(sky-bench-s8cpus1000000000steps-0)\u001b[0m I 04-29 23:57:57 cloud_vm_ray_backend.py:3518] \u001b[36mProcessing 1 storage mount.\u001b[0m\n",
      "\u001b[35m(sky-bench-s8cpus1000000000steps-0)\u001b[0m I 04-29 23:57:57 backend_utils.py:1199] \u001b[36mMounting (to 1 node): \u001b[1msky-bench-c0e3-jchiu\u001b[0m -> \u001b[1m~/.sky/sky_benchmark_dir\u001b[0m\n",
      "\u001b[35m(sky-bench-s8cpus1000000000steps-0)\u001b[0m I 04-29 23:58:00 cloud_vm_ray_backend.py:2531] \u001b[36mRunning setup on 1 node.\u001b[0m\n"
     ]
    },
    {
     "name": "stderr",
     "output_type": "stream",
     "text": [
      "\u001b[35m(sky-bench-s8cpus1000000000steps-0)\u001b[0m Warning: Permanently added '52.0.97.92' (ED25519) to the list of known hosts.\n"
     ]
    },
    {
     "name": "stdout",
     "output_type": "stream",
     "text": [
      "\u001b[35m(sky-bench-s8cpus1000000000steps-0)\u001b[0m I 04-29 23:58:04 cloud_vm_ray_backend.py:2540] \u001b[32mSetup completed.\u001b[0m\n",
      "I 04-29 23:58:11 cli.py:3750] \n",
      "I 04-29 23:58:11 cli.py:3750] \u001b[36mBenchmark name: \u001b[1ms8cpus1000000000steps\u001b[0m\n",
      "I 04-29 23:58:11 cli.py:3750] To see the benchmark results: \u001b[1msky bench show s8cpus1000000000steps\u001b[0m\n",
      "I 04-29 23:58:11 cli.py:3750] To teardown the clusters: \u001b[1msky bench down s8cpus1000000000steps\u001b[0m\n",
      "BENCHMARK              TASK     LAUNCHED             CANDIDATE 1     CANDIDATE 2       \n",
      "s8cpus1000000000steps  example  2023-04-29 23:58:11  1x m6i.2xlarge  1x n2-standard-8  \n"
     ]
    }
   ],
   "source": [
    "from itertools import product\n",
    "import subprocess\n",
    "\n",
    "cpus = [8]\n",
    "steps = [1e9]\n",
    "pids = []\n",
    "\n",
    "i = 0\n",
    "for cpu in cpus:\n",
    "    for step in steps:\n",
    "        print(cpu, step)\n",
    "        name = f\"s{cpu}cpus{int(step)}steps\"\n",
    "        command = f\"sky bench launch cpu_yamls/{int(cpu)}cpus_{int(step)}steps.yaml --benchmark {name} -y\"\n",
    "        pid = subprocess.Popen(command, shell=True)\n",
    "        pids.append(pid)\n",
    "        i += 1\n",
    "        \n"
   ]
  },
  {
   "cell_type": "code",
   "execution_count": 6,
   "id": "8a8e90de-f58d-4928-9498-ded6fee04f2a",
   "metadata": {},
   "outputs": [
    {
     "name": "stdout",
     "output_type": "stream",
     "text": [
      "V100 1000000.0\n",
      "K80 1000000.0\n",
      "T4 1000000.0\n",
      "Benchmarking a task from YAML spec: gpu_yamls/gcp_gpu_yamls/k801000000steps.yaml\n",
      "Benchmarking a task from YAML spec: gpu_yamls/gcp_gpu_yamls/t41000000steps.yaml\n",
      "Benchmarking a task from YAML spec: gpu_yamls/gcp_gpu_yamls/v1001000000steps.yaml\n",
      "I 05-01 16:35:07 benchmark_utils.py:112] \u001b[1mBenchmarking gcp_gpu_example on candidate resources (benchmark name: sk801000000steps):\u001b[0m\n",
      "I 05-01 16:35:07 benchmark_utils.py:160] ---------------------------------------------------------------------------------------------------------------\n",
      "I 05-01 16:35:07 benchmark_utils.py:160]  CLUSTER                      CLOUD   # NODES   INSTANCE       vCPUs   Mem(GB)   ACCELERATORS   PRICE ($/hr)   \n",
      "I 05-01 16:35:07 benchmark_utils.py:160] ---------------------------------------------------------------------------------------------------------------\n",
      "I 05-01 16:35:07 benchmark_utils.py:160]  sky-bench-sk801000000steps   GCP     1         n1-highmem-4   4       26        K80:1          0.69           \n",
      "I 05-01 16:35:07 benchmark_utils.py:160] ---------------------------------------------------------------------------------------------------------------\n",
      "I 05-01 16:35:07 benchmark_utils.py:160] \n",
      "I 05-01 16:35:07 benchmark_utils.py:112] \u001b[1mBenchmarking gcp_gpu_example on candidate resources (benchmark name: st41000000steps):\u001b[0m\n",
      "I 05-01 16:35:07 benchmark_utils.py:112] \u001b[1mBenchmarking gcp_gpu_example on candidate resources (benchmark name: sv1001000000steps):\u001b[0m\n",
      "I 05-01 16:35:07 benchmark_utils.py:160] --------------------------------------------------------------------------------------------------------------\n",
      "I 05-01 16:35:07 benchmark_utils.py:160]  CLUSTER                     CLOUD   # NODES   INSTANCE       vCPUs   Mem(GB)   ACCELERATORS   PRICE ($/hr)   \n",
      "I 05-01 16:35:07 benchmark_utils.py:160] --------------------------------------------------------------------------------------------------------------\n",
      "I 05-01 16:35:07 benchmark_utils.py:160]  sky-bench-st41000000steps   GCP     1         n1-highmem-4   4       26        T4:1           0.59           \n",
      "I 05-01 16:35:07 benchmark_utils.py:160] --------------------------------------------------------------------------------------------------------------\n",
      "I 05-01 16:35:07 benchmark_utils.py:160] \n",
      "I 05-01 16:35:07 benchmark_utils.py:160] ----------------------------------------------------------------------------------------------------------------\n",
      "I 05-01 16:35:07 benchmark_utils.py:160]  CLUSTER                       CLOUD   # NODES   INSTANCE       vCPUs   Mem(GB)   ACCELERATORS   PRICE ($/hr)   \n",
      "I 05-01 16:35:07 benchmark_utils.py:160] ----------------------------------------------------------------------------------------------------------------\n",
      "I 05-01 16:35:07 benchmark_utils.py:160]  sky-bench-sv1001000000steps   GCP     1         n1-highmem-8   8       52        V100:1         2.95           \n",
      "I 05-01 16:35:07 benchmark_utils.py:160] ----------------------------------------------------------------------------------------------------------------\n",
      "I 05-01 16:35:07 benchmark_utils.py:160] \n",
      "I 05-01 16:35:08 benchmark_utils.py:514] \u001b[33mTo view stdout/stderr from individual cluster launches, check the logs in\u001b[0m \u001b[1m/Users/jchiu/sky_logs/sky-2023-05-01-16-35-08-858523/\u001b[0m\n",
      "I 05-01 16:35:08 benchmark_utils.py:514] \u001b[33mTo view stdout/stderr from individual cluster launches, check the logs in\u001b[0m \u001b[1m/Users/jchiu/sky_logs/sky-2023-05-01-16-35-08-858591/\u001b[0m\n",
      "I 05-01 16:35:08 benchmark_utils.py:514] \u001b[33mTo view stdout/stderr from individual cluster launches, check the logs in\u001b[0m \u001b[1m/Users/jchiu/sky_logs/sky-2023-05-01-16-35-08-862575/\u001b[0m\n",
      "\u001b[35m(sky-bench-st41000000steps)\u001b[0m I 05-01 16:35:10 cloud_vm_ray_backend.py:3327] \u001b[36mCreating a new cluster: \"sky-bench-st41000000steps\" [1x GCP(n1-highmem-4, {'T4': 1})].\u001b[0m\n",
      "\u001b[35m(sky-bench-sk801000000steps)\u001b[0m I 05-01 16:35:10 cloud_vm_ray_backend.py:3327] \u001b[36mCreating a new cluster: \"sky-bench-sk801000000steps\" [1x GCP(n1-highmem-4, {'K80': 1})].\u001b[0m\n",
      "\u001b[35m(sky-bench-sv1001000000steps)\u001b[0m I 05-01 16:35:10 cloud_vm_ray_backend.py:3327] \u001b[36mCreating a new cluster: \"sky-bench-sv1001000000steps\" [1x GCP(n1-highmem-8, {'V100': 1})].\u001b[0m\n",
      "\u001b[35m(sky-bench-sk801000000steps)\u001b[0m I 05-01 16:35:11 cloud_vm_ray_backend.py:1156] To view detailed progress: \u001b[1mtail -n100 -f /Users/jchiu/sky_logs/sky-2023-05-01-16-35-10-122698/provision.log\u001b[0m\n",
      "\u001b[35m(sky-bench-st41000000steps)\u001b[0m I 05-01 16:35:11 cloud_vm_ray_backend.py:1156] To view detailed progress: \u001b[1mtail -n100 -f /Users/jchiu/sky_logs/sky-2023-05-01-16-35-09-987873/provision.log\u001b[0m\n",
      "\u001b[35m(sky-bench-sv1001000000steps)\u001b[0m I 05-01 16:35:11 cloud_vm_ray_backend.py:1156] To view detailed progress: \u001b[1mtail -n100 -f /Users/jchiu/sky_logs/sky-2023-05-01-16-35-10-123972/provision.log\u001b[0m\n",
      "\u001b[35m(sky-bench-st41000000steps)\u001b[0m I 05-01 16:35:13 cloud_vm_ray_backend.py:1480] \u001b[1mLaunching on GCP us-central1\u001b[0m (us-central1-a)\n",
      "\u001b[35m(sky-bench-sv1001000000steps)\u001b[0m I 05-01 16:35:13 cloud_vm_ray_backend.py:1480] \u001b[1mLaunching on GCP us-central1\u001b[0m (us-central1-a)\n",
      "\u001b[35m(sky-bench-sk801000000steps)\u001b[0m I 05-01 16:35:13 cloud_vm_ray_backend.py:1480] \u001b[1mLaunching on GCP us-central1\u001b[0m (us-central1-a)\n",
      "\u001b[35m(sky-bench-sv1001000000steps)\u001b[0m \u001b[2K\u001b[32m⠸\u001b[0m \u001b[1;36mLaunching\u001b[0mm\n",
      "\u001b[35m(sky-bench-sv1001000000steps)\u001b[0m \u001b[1A\u001b[2KW 05-01 16:35:27 cloud_vm_ray_backend.py:621] Got return code ZONE_RESOURCE_POOL_EXHAUSTED in us-central1-a \u001b[2m(message: The zone 'projects/cs262final/zones/us-central1-a' does not have enough resources available to fulfill the request.  Try a different zone, or try again later.)\u001b[0m\n",
      "\u001b[35m(sky-bench-st41000000steps)\u001b[0m \u001b[2K\u001b[32m⠋\u001b[0m \u001b[1;36mLaunching\u001b[0m \u001b[0m\u001b[1;32msky-bench-sv1001000000steps\u001b[0m\n",
      "\u001b[35m(sky-bench-st41000000steps)\u001b[0m \u001b[1A\u001b[2KW 05-01 16:35:28 cloud_vm_ray_backend.py:621] Got return code ZONE_RESOURCE_POOL_EXHAUSTED in us-central1-a \u001b[2m(message: The zone 'projects/cs262final/zones/us-central1-a' does not have enough resources available to fulfill the request.  Try a different zone, or try again later.)\u001b[0m\n",
      "\u001b[35m(sky-bench-sv1001000000steps)\u001b[0m \u001b[2K\u001b[32m⠹\u001b[0m \u001b[1;36mTerminating \u001b[0m\u001b[1;32msky-bench-sv1001000000steps\u001b[0m\n",
      "E 05-01 16:35:32 benchmark_utils.py:205] \u001b[31mInterrupted by user.\u001b[0m\n",
      "\n",
      "E 05-01 16:35:32 benchmark_utils.py:205] \u001b[31mInterrupted by user.\u001b[0m\n",
      "\n",
      "E 05-01 16:35:32 benchmark_utils.py:205] \u001b[31mInterrupted by user.\u001b[0m\n",
      "Clustersy-bench-sk801000000steps)\u001b[0m \u001b[2K\u001b[32m⠧\u001b[0m \u001b[1;36mLaunching\u001b[0m0m\u001b[1;32msky-bench-st41000000steps\u001b[0m\u001b[0m\n",
      "NAME                         LAUNCHED     RESOURCES                          STATUS  AUTOSTOP  COMMAND                       \n",
      "sky-bench-st41000000steps    20 secs ago  1x GCP(n1-highmem-4, {'T4': 1})    INIT    -         sky launch /var/folders/l...  \n",
      "sky-bench-sv1001000000steps  20 secs ago  1x GCP(n1-highmem-8, {'V100': 1})  INIT    -         sky launch /var/folders/l...  \n",
      "sky-bench-sk801000000steps   20 secs ago  1x GCP(n1-highmem-4, {'K80': 1})   INIT    -         sky launch /var/folders/l...  \n",
      "\n",
      "Managed spot jobs\n",
      "\u001b[?25lClusters\n",
      "Clusters\n",
      "NAME                         LAUNCHED     RESOURCES                          STATUS  AUTOSTOP  COMMAND                       \n",
      "sky-bench-st41000000steps    20 secs ago  1x GCP(n1-highmem-4, {'T4': 1})    INIT    -         sky launch /var/folders/l...  \n",
      "sky-bench-sv1001000000steps  20 secs ago  1x GCP(n1-highmem-8, {'V100': 1})  INIT    -         sky launch /var/folders/l...  \n",
      "sky-bench-sk801000000steps   20 secs ago  1x GCP(n1-highmem-4, {'K80': 1})   INIT    -         sky launch /var/folders/l...  \n",
      "\n",
      "Managed spot jobs\n",
      "NAME                         LAUNCHED     RESOURCES                          STATUS  AUTOSTOP  COMMAND                       \n",
      "sky-bench-st41000000steps    20 secs ago  1x GCP(n1-highmem-4, {'T4': 1})    INIT    -         sky launch /var/folders/l...  \n",
      "sky-bench-sv1001000000steps  20 secs ago  1x GCP(n1-highmem-8, {'V100': 1})  INIT    -         sky launch /var/folders/l...  \n",
      "sky-bench-sk801000000steps   20 secs ago  1x GCP(n1-highmem-4, {'K80': 1})   INIT    -         sky launch /var/folders/l...  \n",
      "\u001b[35m(sky-bench-sv1001000000steps)\u001b[0m \u001b[2K\u001b[32m⠹\u001b[0m \u001b[1;36mTerminating \u001b[0m\u001b[1;32msky-bench-sv1001000000steps\u001b[0m\n",
      "Managed spot jobs\n",
      "\u001b[2K\u001b[32m⠹\u001b[0m \u001b[36mChecking spot jobs\u001b[0mK\u001b[32m⠴\u001b[0m \u001b[1;36mTerminating \u001b[0m\u001b[1;32msky-bench-sv1001000000steps\u001b[0m0m\u001b[1;32msky-bench-st41000000steps\u001b[0m\u001b[0mmsky-bench-st41000000steps\u001b[0m\u001b[35m(sky-bench-sk801000000steps)\u001b[0m \u001b[2K\u001b[32m⠋\u001b[0m \u001b[1;36mLaunching\u001b[0m\n",
      "\u001b[1A\u001b[2KNo in progress jobs. (See: sky spot -h)\n",
      "\u001b[2K\u001b[32m⠹\u001b[0m \u001b[36mChecking spot jobs\u001b[0m\n",
      "\u001b[1A\u001b[2KNo in progress jobs. (See: sky spot -h)\n",
      "\u001b[2K\u001b[32m⠹\u001b[0m \u001b[36mChecking spot jobs\u001b[0m\n",
      "\u001b[1A\u001b[2KNo in progress jobs. (See: sky spot -h)\n",
      "\u001b[35m(sky-bench-st41000000steps)\u001b[0m \u001b[2K\u001b[32m⠸\u001b[0m \u001b[1;36mTerminating \u001b[0m\u001b[1;32msky-bench-st41000000steps\u001b[0m\u001b[0m\r"
     ]
    }
   ],
   "source": [
    "from itertools import product\n",
    "import subprocess\n",
    "\n",
    "steps = [1e7]\n",
    "gpus = [\"K80\"]\n",
    "pids = []\n",
    "\n",
    "i = 0\n",
    "for gpu in gpus:\n",
    "    for step in steps:\n",
    "        print(gpu, step)\n",
    "        gpu = gpu.lower()\n",
    "        name = f\"s{gpu}{int(step)}steps\"\n",
    "        command = f\"sky bench launch gpu_yamls/gcp_gpu_yamls/{gpu}{int(step)}steps.yaml --benchmark {name} -y\"\n",
    "        pid = subprocess.Popen(command, shell=True)\n",
    "        pids.append(pid)\n",
    "        i += 1\n",
    "        break\n",
    "        "
   ]
  },
  {
   "cell_type": "code",
   "execution_count": null,
   "id": "512d7ed1-25ae-4220-a031-586f964eafb3",
   "metadata": {},
   "outputs": [],
   "source": []
  }
 ],
 "metadata": {
  "kernelspec": {
   "display_name": "Python 3 (ipykernel)",
   "language": "python",
   "name": "python3"
  },
  "language_info": {
   "codemirror_mode": {
    "name": "ipython",
    "version": 3
   },
   "file_extension": ".py",
   "mimetype": "text/x-python",
   "name": "python",
   "nbconvert_exporter": "python",
   "pygments_lexer": "ipython3",
   "version": "3.9.16"
  }
 },
 "nbformat": 4,
 "nbformat_minor": 5
}
